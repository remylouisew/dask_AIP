{
 "cells": [
  {
   "cell_type": "code",
   "execution_count": 1,
   "metadata": {},
   "outputs": [
    {
     "name": "stdout",
     "output_type": "stream",
     "text": [
      "Copying gs://nvidiadask/higgs/0000.csv [Content-Type=text/csv]...\n",
      "Copying gs://nvidiadask/higgs/0001.csv [Content-Type=text/csv]...               \n",
      "Copying gs://nvidiadask/higgs/0002.csv [Content-Type=text/csv]...               \n",
      "Copying gs://nvidiadask/higgs/0003.csv [Content-Type=text/csv]...               \n",
      "- [4 files][  4.2 GiB/  4.2 GiB]                                                \n",
      "==> NOTE: You are performing a sequence of gsutil operations that may\n",
      "run significantly faster if you instead use gsutil -m cp ... Please\n",
      "see the -m section under \"gsutil help options\" for further information\n",
      "about when gsutil -m can be advantageous.\n",
      "\n",
      "Copying gs://nvidiadask/higgs/0004.csv [Content-Type=text/csv]...\n",
      "Copying gs://nvidiadask/higgs/0005.csv [Content-Type=text/csv]...               \n",
      "Copying gs://nvidiadask/higgs/0006.csv [Content-Type=text/csv]...               \n",
      "Copying gs://nvidiadask/higgs/0007.csv [Content-Type=text/csv]...               \n",
      "Copying gs://nvidiadask/higgs/0008.csv [Content-Type=text/csv]...               \n",
      "Copying gs://nvidiadask/higgs/0009.csv [Content-Type=text/csv]...               \n",
      "| [10 files][ 10.4 GiB/ 10.4 GiB]                                               \n",
      "Operation completed over 10 objects/10.4 GiB.                                    \n"
     ]
    }
   ],
   "source": [
    "!gsutil cp -m gs://nvidiadask/higgs/000*.csv gs://nvidiadask/higgs1/"
   ]
  },
  {
   "cell_type": "code",
   "execution_count": 3,
   "metadata": {},
   "outputs": [
    {
     "name": "stdout",
     "output_type": "stream",
     "text": [
      "Copying gs://nvidiadask/higgs/0010.csv [Content-Type=text/csv]...\n",
      "Copying gs://nvidiadask/higgs/0011.csv [Content-Type=text/csv]...               \n",
      "Copying gs://nvidiadask/higgs/0013.csv [Content-Type=text/csv]...               \n",
      "Copying gs://nvidiadask/higgs/0012.csv [Content-Type=text/csv]...               \n",
      "Copying gs://nvidiadask/higgs/0014.csv [Content-Type=text/csv]...               \n",
      "Copying gs://nvidiadask/higgs/0015.csv [Content-Type=text/csv]...               \n",
      "Copying gs://nvidiadask/higgs/0016.csv [Content-Type=text/csv]...               \n",
      "Copying gs://nvidiadask/higgs/0019.csv [Content-Type=text/csv]...               \n",
      "Copying gs://nvidiadask/higgs/0018.csv [Content-Type=text/csv]...               \n",
      "Copying gs://nvidiadask/higgs/0017.csv [Content-Type=text/csv]...               \n",
      "/ [10/10 files][ 10.4 GiB/ 10.4 GiB] 100% Done                                  \n",
      "Operation completed over 10 objects/10.4 GiB.                                    \n"
     ]
    }
   ],
   "source": [
    "!gsutil -m cp gs://nvidiadask/higgs/001*.csv gs://nvidiadask/higgs2/"
   ]
  },
  {
   "cell_type": "code",
   "execution_count": 4,
   "metadata": {},
   "outputs": [
    {
     "name": "stdout",
     "output_type": "stream",
     "text": [
      "Removing gs://nvidiadask/higgs2/0010.csv...\n",
      "/ [1 objects]                                                                   \n",
      "Operation completed over 1 objects.                                              \n"
     ]
    }
   ],
   "source": [
    "!gsutil rm gs://nvidiadask/higgs2/0010*.csv "
   ]
  },
  {
   "cell_type": "code",
   "execution_count": 6,
   "metadata": {
    "collapsed": true,
    "jupyter": {
     "outputs_hidden": true
    }
   },
   "outputs": [
    {
     "name": "stdout",
     "output_type": "stream",
     "text": [
      "Copying gs://nvidiadask/higgs/0010.csv [Content-Type=text/csv]...\n",
      "Copying gs://nvidiadask/higgs/0012.csv [Content-Type=text/csv]...               \n",
      "Copying gs://nvidiadask/higgs/0015.csv [Content-Type=text/csv]...               \n",
      "Copying gs://nvidiadask/higgs/0000.csv [Content-Type=text/csv]...               \n",
      "Copying gs://nvidiadask/higgs/0017.csv [Content-Type=text/csv]...\n",
      "Copying gs://nvidiadask/higgs/0005.csv [Content-Type=text/csv]...               \n",
      "Copying gs://nvidiadask/higgs/0002.csv [Content-Type=text/csv]...\n",
      "Copying gs://nvidiadask/higgs/0001.csv [Content-Type=text/csv]...\n",
      "Copying gs://nvidiadask/higgs/0003.csv [Content-Type=text/csv]...               \n",
      "Copying gs://nvidiadask/higgs/0016.csv [Content-Type=text/csv]...               \n",
      "Copying gs://nvidiadask/higgs/0006.csv [Content-Type=text/csv]...               \n",
      "Copying gs://nvidiadask/higgs/0013.csv [Content-Type=text/csv]...               \n",
      "Copying gs://nvidiadask/higgs/0007.csv [Content-Type=text/csv]...\n",
      "Copying gs://nvidiadask/higgs/0011.csv [Content-Type=text/csv]...\n",
      "Copying gs://nvidiadask/higgs/0019.csv [Content-Type=text/csv]...               \n",
      "Copying gs://nvidiadask/higgs/0004.csv [Content-Type=text/csv]...               \n",
      "Copying gs://nvidiadask/higgs/0009.csv [Content-Type=text/csv]...\n",
      "Copying gs://nvidiadask/higgs/0014.csv [Content-Type=text/csv]...\n",
      "Copying gs://nvidiadask/higgs/0018.csv [Content-Type=text/csv]...\n",
      "Copying gs://nvidiadask/higgs/0008.csv [Content-Type=text/csv]...\n",
      "Copying gs://nvidiadask/higgs/0020.csv [Content-Type=text/csv]...               \n",
      "Copying gs://nvidiadask/higgs/0022.csv [Content-Type=text/csv]...               \n",
      "Copying gs://nvidiadask/higgs/0023.csv [Content-Type=text/csv]...\n",
      "Copying gs://nvidiadask/higgs/0024.csv [Content-Type=text/csv]...               \n",
      "Copying gs://nvidiadask/higgs/0021.csv [Content-Type=text/csv]...               \n",
      "Copying gs://nvidiadask/higgs/0025.csv [Content-Type=text/csv]...               \n",
      "Copying gs://nvidiadask/higgs/0026.csv [Content-Type=text/csv]...               \n",
      "Copying gs://nvidiadask/higgs/0027.csv [Content-Type=text/csv]...\n",
      "Copying gs://nvidiadask/higgs/0028.csv [Content-Type=text/csv]...               \n",
      "Copying gs://nvidiadask/higgs/0029.csv [Content-Type=text/csv]...               \n",
      "Copying gs://nvidiadask/higgs/0031.csv [Content-Type=text/csv]...               \n",
      "Copying gs://nvidiadask/higgs/0032.csv [Content-Type=text/csv]...               \n",
      "Copying gs://nvidiadask/higgs/0030.csv [Content-Type=text/csv]...               \n",
      "Copying gs://nvidiadask/higgs/0033.csv [Content-Type=text/csv]...               \n",
      "Copying gs://nvidiadask/higgs/0034.csv [Content-Type=text/csv]...               \n",
      "Copying gs://nvidiadask/higgs/0035.csv [Content-Type=text/csv]...               \n",
      "Copying gs://nvidiadask/higgs/0036.csv [Content-Type=text/csv]...\n",
      "Copying gs://nvidiadask/higgs/0037.csv [Content-Type=text/csv]...               \n",
      "Copying gs://nvidiadask/higgs/0038.csv [Content-Type=text/csv]...               \n",
      "Copying gs://nvidiadask/higgs/0039.csv [Content-Type=text/csv]...               \n",
      "Copying gs://nvidiadask/higgs/0041.csv [Content-Type=text/csv]...               \n",
      "Copying gs://nvidiadask/higgs/0040.csv [Content-Type=text/csv]...               \n",
      "Copying gs://nvidiadask/higgs/0042.csv [Content-Type=text/csv]...               \n",
      "Copying gs://nvidiadask/higgs/0043.csv [Content-Type=text/csv]...\n",
      "Copying gs://nvidiadask/higgs/0044.csv [Content-Type=text/csv]...               \n",
      "Copying gs://nvidiadask/higgs/0045.csv [Content-Type=text/csv]...               \n",
      "Copying gs://nvidiadask/higgs/0046.csv [Content-Type=text/csv]...               \n",
      "Copying gs://nvidiadask/higgs/0047.csv [Content-Type=text/csv]...               \n",
      "Copying gs://nvidiadask/higgs/0048.csv [Content-Type=text/csv]...               \n",
      "Copying gs://nvidiadask/higgs/0049.csv [Content-Type=text/csv]...               \n",
      "Copying gs://nvidiadask/higgs/0052.csv [Content-Type=text/csv]...               \n",
      "Copying gs://nvidiadask/higgs/0050.csv [Content-Type=text/csv]...               \n",
      "Copying gs://nvidiadask/higgs/0051.csv [Content-Type=text/csv]...               \n",
      "Copying gs://nvidiadask/higgs/0054.csv [Content-Type=text/csv]...               \n",
      "Copying gs://nvidiadask/higgs/0053.csv [Content-Type=text/csv]...               \n",
      "Copying gs://nvidiadask/higgs/0055.csv [Content-Type=text/csv]...\n",
      "Copying gs://nvidiadask/higgs/0056.csv [Content-Type=text/csv]...               \n",
      "Copying gs://nvidiadask/higgs/0057.csv [Content-Type=text/csv]...               \n",
      "Copying gs://nvidiadask/higgs/0058.csv [Content-Type=text/csv]...               \n",
      "Copying gs://nvidiadask/higgs/0059.csv [Content-Type=text/csv]...\n",
      "Copying gs://nvidiadask/higgs/0060.csv [Content-Type=text/csv]...               \n",
      "Copying gs://nvidiadask/higgs/0061.csv [Content-Type=text/csv]...               \n",
      "Copying gs://nvidiadask/higgs/0062.csv [Content-Type=text/csv]...               \n",
      "Copying gs://nvidiadask/higgs/0063.csv [Content-Type=text/csv]...               \n",
      "Copying gs://nvidiadask/higgs/0064.csv [Content-Type=text/csv]...               \n",
      "Copying gs://nvidiadask/higgs/0065.csv [Content-Type=text/csv]...\n",
      "Copying gs://nvidiadask/higgs/0066.csv [Content-Type=text/csv]...               \n",
      "Copying gs://nvidiadask/higgs/0067.csv [Content-Type=text/csv]...               \n",
      "Copying gs://nvidiadask/higgs/0068.csv [Content-Type=text/csv]...               \n",
      "Copying gs://nvidiadask/higgs/0069.csv [Content-Type=text/csv]...\n",
      "Copying gs://nvidiadask/higgs/0070.csv [Content-Type=text/csv]...               \n",
      "Copying gs://nvidiadask/higgs/0071.csv [Content-Type=text/csv]...               \n",
      "Copying gs://nvidiadask/higgs/0072.csv [Content-Type=text/csv]...               \n",
      "Copying gs://nvidiadask/higgs/0073.csv [Content-Type=text/csv]...               \n",
      "Copying gs://nvidiadask/higgs/0074.csv [Content-Type=text/csv]...               \n",
      "Copying gs://nvidiadask/higgs/0075.csv [Content-Type=text/csv]...               \n",
      "Copying gs://nvidiadask/higgs/0076.csv [Content-Type=text/csv]...               \n",
      "Copying gs://nvidiadask/higgs/0077.csv [Content-Type=text/csv]...               \n",
      "Copying gs://nvidiadask/higgs/0078.csv [Content-Type=text/csv]...               \n",
      "Copying gs://nvidiadask/higgs/0079.csv [Content-Type=text/csv]...               \n",
      "Copying gs://nvidiadask/higgs/0080.csv [Content-Type=text/csv]...               \n",
      "Copying gs://nvidiadask/higgs/0081.csv [Content-Type=text/csv]...               \n",
      "Copying gs://nvidiadask/higgs/0082.csv [Content-Type=text/csv]...               \n",
      "Copying gs://nvidiadask/higgs/0083.csv [Content-Type=text/csv]...               \n",
      "Copying gs://nvidiadask/higgs/0084.csv [Content-Type=text/csv]...               \n",
      "Copying gs://nvidiadask/higgs/0085.csv [Content-Type=text/csv]...               \n",
      "Copying gs://nvidiadask/higgs/0086.csv [Content-Type=text/csv]...               \n",
      "Copying gs://nvidiadask/higgs/0087.csv [Content-Type=text/csv]...               \n",
      "Copying gs://nvidiadask/higgs/0088.csv [Content-Type=text/csv]...\n",
      "Copying gs://nvidiadask/higgs/0089.csv [Content-Type=text/csv]...               \n",
      "Copying gs://nvidiadask/higgs/0090.csv [Content-Type=text/csv]...\n",
      "Copying gs://nvidiadask/higgs/0091.csv [Content-Type=text/csv]...               \n",
      "Copying gs://nvidiadask/higgs/0092.csv [Content-Type=text/csv]...               \n",
      "Copying gs://nvidiadask/higgs/0093.csv [Content-Type=text/csv]...               \n",
      "Copying gs://nvidiadask/higgs/0094.csv [Content-Type=text/csv]...               \n",
      "Copying gs://nvidiadask/higgs/0095.csv [Content-Type=text/csv]...               \n",
      "Copying gs://nvidiadask/higgs/0096.csv [Content-Type=text/csv]...               \n",
      "Copying gs://nvidiadask/higgs/0097.csv [Content-Type=text/csv]...               \n",
      "Copying gs://nvidiadask/higgs/0098.csv [Content-Type=text/csv]...               \n",
      "Copying gs://nvidiadask/higgs/0099.csv [Content-Type=text/csv]...               \n",
      "\\ [100/100 files][103.7 GiB/103.7 GiB] 100% Done                                \n",
      "Operation completed over 100 objects/103.7 GiB.                                  \n"
     ]
    }
   ],
   "source": [
    "!gsutil -m cp gs://nvidiadask/higgs/00*.csv gs://nvidiadask/higgs100/"
   ]
  },
  {
   "cell_type": "code",
   "execution_count": 9,
   "metadata": {},
   "outputs": [
    {
     "name": "stdout",
     "output_type": "stream",
     "text": [
      "Copying gs://nvidiadask/higgs/0020.csv [Content-Type=text/csv]...\n",
      "Copying gs://nvidiadask/higgs/0021.csv [Content-Type=text/csv]...               \n",
      "Copying gs://nvidiadask/higgs/0022.csv [Content-Type=text/csv]...               \n",
      "Copying gs://nvidiadask/higgs/0023.csv [Content-Type=text/csv]...               \n",
      "Copying gs://nvidiadask/higgs/0024.csv [Content-Type=text/csv]...               \n",
      "Copying gs://nvidiadask/higgs/0025.csv [Content-Type=text/csv]...               \n",
      "Copying gs://nvidiadask/higgs/0026.csv [Content-Type=text/csv]...               \n",
      "Copying gs://nvidiadask/higgs/0027.csv [Content-Type=text/csv]...               \n",
      "Copying gs://nvidiadask/higgs/0028.csv [Content-Type=text/csv]...               \n",
      "Copying gs://nvidiadask/higgs/0029.csv [Content-Type=text/csv]...               \n",
      "/ [10/10 files][ 10.4 GiB/ 10.4 GiB] 100% Done                                  \n",
      "Operation completed over 10 objects/10.4 GiB.                                    \n"
     ]
    }
   ],
   "source": [
    "!gsutil -m cp gs://nvidiadask/higgs/002*.csv gs://nvidiadask/higgs2/"
   ]
  },
  {
   "cell_type": "code",
   "execution_count": null,
   "metadata": {},
   "outputs": [],
   "source": []
  }
 ],
 "metadata": {
  "environment": {
   "name": "common-cu110.m59",
   "type": "gcloud",
   "uri": "gcr.io/deeplearning-platform-release/base-cu110:m59"
  },
  "kernelspec": {
   "display_name": "Python 3",
   "language": "python",
   "name": "python3"
  },
  "language_info": {
   "codemirror_mode": {
    "name": "ipython",
    "version": 3
   },
   "file_extension": ".py",
   "mimetype": "text/x-python",
   "name": "python",
   "nbconvert_exporter": "python",
   "pygments_lexer": "ipython3",
   "version": "3.7.8"
  }
 },
 "nbformat": 4,
 "nbformat_minor": 4
}
