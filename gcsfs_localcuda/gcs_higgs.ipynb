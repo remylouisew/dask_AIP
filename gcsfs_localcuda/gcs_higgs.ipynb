{
 "cells": [
  {
   "cell_type": "code",
   "execution_count": 1,
   "metadata": {},
   "outputs": [
    {
     "name": "stdout",
     "output_type": "stream",
     "text": [
      "Copying gs://nvidiadask/higgs/0000.csv [Content-Type=text/csv]...\n",
      "Copying gs://nvidiadask/higgs/0001.csv [Content-Type=text/csv]...               \n",
      "Copying gs://nvidiadask/higgs/0002.csv [Content-Type=text/csv]...               \n",
      "Copying gs://nvidiadask/higgs/0003.csv [Content-Type=text/csv]...               \n",
      "- [4 files][  4.2 GiB/  4.2 GiB]                                                \n",
      "==> NOTE: You are performing a sequence of gsutil operations that may\n",
      "run significantly faster if you instead use gsutil -m cp ... Please\n",
      "see the -m section under \"gsutil help options\" for further information\n",
      "about when gsutil -m can be advantageous.\n",
      "\n",
      "Copying gs://nvidiadask/higgs/0004.csv [Content-Type=text/csv]...\n",
      "Copying gs://nvidiadask/higgs/0005.csv [Content-Type=text/csv]...               \n",
      "Copying gs://nvidiadask/higgs/0006.csv [Content-Type=text/csv]...               \n",
      "Copying gs://nvidiadask/higgs/0007.csv [Content-Type=text/csv]...               \n",
      "Copying gs://nvidiadask/higgs/0008.csv [Content-Type=text/csv]...               \n",
      "Copying gs://nvidiadask/higgs/0009.csv [Content-Type=text/csv]...               \n",
      "| [10 files][ 10.4 GiB/ 10.4 GiB]                                               \n",
      "Operation completed over 10 objects/10.4 GiB.                                    \n"
     ]
    }
   ],
   "source": [
    "!gsutil cp -m gs://nvidiadask/higgs/000*.csv gs://nvidiadask/higgs1/"
   ]
  },
  {
   "cell_type": "code",
   "execution_count": 3,
   "metadata": {},
   "outputs": [
    {
     "name": "stdout",
     "output_type": "stream",
     "text": [
      "Copying gs://nvidiadask/higgs/0010.csv [Content-Type=text/csv]...\n",
      "Copying gs://nvidiadask/higgs/0011.csv [Content-Type=text/csv]...               \n",
      "Copying gs://nvidiadask/higgs/0013.csv [Content-Type=text/csv]...               \n",
      "Copying gs://nvidiadask/higgs/0012.csv [Content-Type=text/csv]...               \n",
      "Copying gs://nvidiadask/higgs/0014.csv [Content-Type=text/csv]...               \n",
      "Copying gs://nvidiadask/higgs/0015.csv [Content-Type=text/csv]...               \n",
      "Copying gs://nvidiadask/higgs/0016.csv [Content-Type=text/csv]...               \n",
      "Copying gs://nvidiadask/higgs/0019.csv [Content-Type=text/csv]...               \n",
      "Copying gs://nvidiadask/higgs/0018.csv [Content-Type=text/csv]...               \n",
      "Copying gs://nvidiadask/higgs/0017.csv [Content-Type=text/csv]...               \n",
      "/ [10/10 files][ 10.4 GiB/ 10.4 GiB] 100% Done                                  \n",
      "Operation completed over 10 objects/10.4 GiB.                                    \n"
     ]
    }
   ],
   "source": [
    "!gsutil -m cp gs://nvidiadask/higgs/001*.csv gs://nvidiadask/higgs2/"
   ]
  },
  {
   "cell_type": "code",
   "execution_count": 4,
   "metadata": {},
   "outputs": [
    {
     "name": "stdout",
     "output_type": "stream",
     "text": [
      "Removing gs://nvidiadask/higgs2/0010.csv...\n",
      "/ [1 objects]                                                                   \n",
      "Operation completed over 1 objects.                                              \n"
     ]
    }
   ],
   "source": [
    "!gsutil rm gs://nvidiadask/higgs2/0010*.csv "
   ]
  },
  {
   "cell_type": "code",
   "execution_count": 6,
   "metadata": {
    "collapsed": true,
    "jupyter": {
     "outputs_hidden": true
    }
   },
   "outputs": [
    {
     "name": "stdout",
     "output_type": "stream",
     "text": [
      "Copying gs://nvidiadask/higgs/0010.csv [Content-Type=text/csv]...\n",
      "Copying gs://nvidiadask/higgs/0012.csv [Content-Type=text/csv]...               \n",
      "Copying gs://nvidiadask/higgs/0015.csv [Content-Type=text/csv]...               \n",
      "Copying gs://nvidiadask/higgs/0000.csv [Content-Type=text/csv]...               \n",
      "Copying gs://nvidiadask/higgs/0017.csv [Content-Type=text/csv]...\n",
      "Copying gs://nvidiadask/higgs/0005.csv [Content-Type=text/csv]...               \n",
      "Copying gs://nvidiadask/higgs/0002.csv [Content-Type=text/csv]...\n",
      "Copying gs://nvidiadask/higgs/0001.csv [Content-Type=text/csv]...\n",
      "Copying gs://nvidiadask/higgs/0003.csv [Content-Type=text/csv]...               \n",
      "Copying gs://nvidiadask/higgs/0016.csv [Content-Type=text/csv]...               \n",
      "Copying gs://nvidiadask/higgs/0006.csv [Content-Type=text/csv]...               \n",
      "Copying gs://nvidiadask/higgs/0013.csv [Content-Type=text/csv]...               \n",
      "Copying gs://nvidiadask/higgs/0007.csv [Content-Type=text/csv]...\n",
      "Copying gs://nvidiadask/higgs/0011.csv [Content-Type=text/csv]...\n",
      "Copying gs://nvidiadask/higgs/0019.csv [Content-Type=text/csv]...               \n",
      "Copying gs://nvidiadask/higgs/0004.csv [Content-Type=text/csv]...               \n",
      "Copying gs://nvidiadask/higgs/0009.csv [Content-Type=text/csv]...\n",
      "Copying gs://nvidiadask/higgs/0014.csv [Content-Type=text/csv]...\n",
      "Copying gs://nvidiadask/higgs/0018.csv [Content-Type=text/csv]...\n",
      "Copying gs://nvidiadask/higgs/0008.csv [Content-Type=text/csv]...\n",
      "Copying gs://nvidiadask/higgs/0020.csv [Content-Type=text/csv]...               \n",
      "Copying gs://nvidiadask/higgs/0022.csv [Content-Type=text/csv]...               \n",
      "Copying gs://nvidiadask/higgs/0023.csv [Content-Type=text/csv]...\n",
      "Copying gs://nvidiadask/higgs/0024.csv [Content-Type=text/csv]...               \n",
      "Copying gs://nvidiadask/higgs/0021.csv [Content-Type=text/csv]...               \n",
      "Copying gs://nvidiadask/higgs/0025.csv [Content-Type=text/csv]...               \n",
      "Copying gs://nvidiadask/higgs/0026.csv [Content-Type=text/csv]...               \n",
      "Copying gs://nvidiadask/higgs/0027.csv [Content-Type=text/csv]...\n",
      "Copying gs://nvidiadask/higgs/0028.csv [Content-Type=text/csv]...               \n",
      "Copying gs://nvidiadask/higgs/0029.csv [Content-Type=text/csv]...               \n",
      "Copying gs://nvidiadask/higgs/0031.csv [Content-Type=text/csv]...               \n",
      "Copying gs://nvidiadask/higgs/0032.csv [Content-Type=text/csv]...               \n",
      "Copying gs://nvidiadask/higgs/0030.csv [Content-Type=text/csv]...               \n",
      "Copying gs://nvidiadask/higgs/0033.csv [Content-Type=text/csv]...               \n",
      "Copying gs://nvidiadask/higgs/0034.csv [Content-Type=text/csv]...               \n",
      "Copying gs://nvidiadask/higgs/0035.csv [Content-Type=text/csv]...               \n",
      "Copying gs://nvidiadask/higgs/0036.csv [Content-Type=text/csv]...\n",
      "Copying gs://nvidiadask/higgs/0037.csv [Content-Type=text/csv]...               \n",
      "Copying gs://nvidiadask/higgs/0038.csv [Content-Type=text/csv]...               \n",
      "Copying gs://nvidiadask/higgs/0039.csv [Content-Type=text/csv]...               \n",
      "Copying gs://nvidiadask/higgs/0041.csv [Content-Type=text/csv]...               \n",
      "Copying gs://nvidiadask/higgs/0040.csv [Content-Type=text/csv]...               \n",
      "Copying gs://nvidiadask/higgs/0042.csv [Content-Type=text/csv]...               \n",
      "Copying gs://nvidiadask/higgs/0043.csv [Content-Type=text/csv]...\n",
      "Copying gs://nvidiadask/higgs/0044.csv [Content-Type=text/csv]...               \n",
      "Copying gs://nvidiadask/higgs/0045.csv [Content-Type=text/csv]...               \n",
      "Copying gs://nvidiadask/higgs/0046.csv [Content-Type=text/csv]...               \n",
      "Copying gs://nvidiadask/higgs/0047.csv [Content-Type=text/csv]...               \n",
      "Copying gs://nvidiadask/higgs/0048.csv [Content-Type=text/csv]...               \n",
      "Copying gs://nvidiadask/higgs/0049.csv [Content-Type=text/csv]...               \n",
      "Copying gs://nvidiadask/higgs/0052.csv [Content-Type=text/csv]...               \n",
      "Copying gs://nvidiadask/higgs/0050.csv [Content-Type=text/csv]...               \n",
      "Copying gs://nvidiadask/higgs/0051.csv [Content-Type=text/csv]...               \n",
      "Copying gs://nvidiadask/higgs/0054.csv [Content-Type=text/csv]...               \n",
      "Copying gs://nvidiadask/higgs/0053.csv [Content-Type=text/csv]...               \n",
      "Copying gs://nvidiadask/higgs/0055.csv [Content-Type=text/csv]...\n",
      "Copying gs://nvidiadask/higgs/0056.csv [Content-Type=text/csv]...               \n",
      "Copying gs://nvidiadask/higgs/0057.csv [Content-Type=text/csv]...               \n",
      "Copying gs://nvidiadask/higgs/0058.csv [Content-Type=text/csv]...               \n",
      "Copying gs://nvidiadask/higgs/0059.csv [Content-Type=text/csv]...\n",
      "Copying gs://nvidiadask/higgs/0060.csv [Content-Type=text/csv]...               \n",
      "Copying gs://nvidiadask/higgs/0061.csv [Content-Type=text/csv]...               \n",
      "Copying gs://nvidiadask/higgs/0062.csv [Content-Type=text/csv]...               \n",
      "Copying gs://nvidiadask/higgs/0063.csv [Content-Type=text/csv]...               \n",
      "Copying gs://nvidiadask/higgs/0064.csv [Content-Type=text/csv]...               \n",
      "Copying gs://nvidiadask/higgs/0065.csv [Content-Type=text/csv]...\n",
      "Copying gs://nvidiadask/higgs/0066.csv [Content-Type=text/csv]...               \n",
      "Copying gs://nvidiadask/higgs/0067.csv [Content-Type=text/csv]...               \n",
      "Copying gs://nvidiadask/higgs/0068.csv [Content-Type=text/csv]...               \n",
      "Copying gs://nvidiadask/higgs/0069.csv [Content-Type=text/csv]...\n",
      "Copying gs://nvidiadask/higgs/0070.csv [Content-Type=text/csv]...               \n",
      "Copying gs://nvidiadask/higgs/0071.csv [Content-Type=text/csv]...               \n",
      "Copying gs://nvidiadask/higgs/0072.csv [Content-Type=text/csv]...               \n",
      "Copying gs://nvidiadask/higgs/0073.csv [Content-Type=text/csv]...               \n",
      "Copying gs://nvidiadask/higgs/0074.csv [Content-Type=text/csv]...               \n",
      "Copying gs://nvidiadask/higgs/0075.csv [Content-Type=text/csv]...               \n",
      "Copying gs://nvidiadask/higgs/0076.csv [Content-Type=text/csv]...               \n",
      "Copying gs://nvidiadask/higgs/0077.csv [Content-Type=text/csv]...               \n",
      "Copying gs://nvidiadask/higgs/0078.csv [Content-Type=text/csv]...               \n",
      "Copying gs://nvidiadask/higgs/0079.csv [Content-Type=text/csv]...               \n",
      "Copying gs://nvidiadask/higgs/0080.csv [Content-Type=text/csv]...               \n",
      "Copying gs://nvidiadask/higgs/0081.csv [Content-Type=text/csv]...               \n",
      "Copying gs://nvidiadask/higgs/0082.csv [Content-Type=text/csv]...               \n",
      "Copying gs://nvidiadask/higgs/0083.csv [Content-Type=text/csv]...               \n",
      "Copying gs://nvidiadask/higgs/0084.csv [Content-Type=text/csv]...               \n",
      "Copying gs://nvidiadask/higgs/0085.csv [Content-Type=text/csv]...               \n",
      "Copying gs://nvidiadask/higgs/0086.csv [Content-Type=text/csv]...               \n",
      "Copying gs://nvidiadask/higgs/0087.csv [Content-Type=text/csv]...               \n",
      "Copying gs://nvidiadask/higgs/0088.csv [Content-Type=text/csv]...\n",
      "Copying gs://nvidiadask/higgs/0089.csv [Content-Type=text/csv]...               \n",
      "Copying gs://nvidiadask/higgs/0090.csv [Content-Type=text/csv]...\n",
      "Copying gs://nvidiadask/higgs/0091.csv [Content-Type=text/csv]...               \n",
      "Copying gs://nvidiadask/higgs/0092.csv [Content-Type=text/csv]...               \n",
      "Copying gs://nvidiadask/higgs/0093.csv [Content-Type=text/csv]...               \n",
      "Copying gs://nvidiadask/higgs/0094.csv [Content-Type=text/csv]...               \n",
      "Copying gs://nvidiadask/higgs/0095.csv [Content-Type=text/csv]...               \n",
      "Copying gs://nvidiadask/higgs/0096.csv [Content-Type=text/csv]...               \n",
      "Copying gs://nvidiadask/higgs/0097.csv [Content-Type=text/csv]...               \n",
      "Copying gs://nvidiadask/higgs/0098.csv [Content-Type=text/csv]...               \n",
      "Copying gs://nvidiadask/higgs/0099.csv [Content-Type=text/csv]...               \n",
      "\\ [100/100 files][103.7 GiB/103.7 GiB] 100% Done                                \n",
      "Operation completed over 100 objects/103.7 GiB.                                  \n"
     ]
    }
   ],
   "source": [
    "!gsutil -m cp gs://nvidiadask/higgs/00*.csv gs://nvidiadask/higgs100/"
   ]
  },
  {
   "cell_type": "code",
   "execution_count": 9,
   "metadata": {},
   "outputs": [
    {
     "name": "stdout",
     "output_type": "stream",
     "text": [
      "Copying gs://nvidiadask/higgs/0020.csv [Content-Type=text/csv]...\n",
      "Copying gs://nvidiadask/higgs/0021.csv [Content-Type=text/csv]...               \n",
      "Copying gs://nvidiadask/higgs/0022.csv [Content-Type=text/csv]...               \n",
      "Copying gs://nvidiadask/higgs/0023.csv [Content-Type=text/csv]...               \n",
      "Copying gs://nvidiadask/higgs/0024.csv [Content-Type=text/csv]...               \n",
      "Copying gs://nvidiadask/higgs/0025.csv [Content-Type=text/csv]...               \n",
      "Copying gs://nvidiadask/higgs/0026.csv [Content-Type=text/csv]...               \n",
      "Copying gs://nvidiadask/higgs/0027.csv [Content-Type=text/csv]...               \n",
      "Copying gs://nvidiadask/higgs/0028.csv [Content-Type=text/csv]...               \n",
      "Copying gs://nvidiadask/higgs/0029.csv [Content-Type=text/csv]...               \n",
      "/ [10/10 files][ 10.4 GiB/ 10.4 GiB] 100% Done                                  \n",
      "Operation completed over 10 objects/10.4 GiB.                                    \n"
     ]
    }
   ],
   "source": [
    "!gsutil -m cp gs://nvidiadask/higgs/002*.csv gs://nvidiadask/higgs2/"
   ]
  },
  {
   "cell_type": "code",
   "execution_count": 10,
   "metadata": {},
   "outputs": [
    {
     "ename": "SyntaxError",
     "evalue": "invalid syntax (<ipython-input-10-d892365a3a33>, line 2)",
     "output_type": "error",
     "traceback": [
      "\u001b[0;36m  File \u001b[0;32m\"<ipython-input-10-d892365a3a33>\"\u001b[0;36m, line \u001b[0;32m2\u001b[0m\n\u001b[0;31m    combined_csv = pd.concat([pd.read_csv(gs://nvidiadask/higgs2/*.csv) ])\u001b[0m\n\u001b[0m                                            ^\u001b[0m\n\u001b[0;31mSyntaxError\u001b[0m\u001b[0;31m:\u001b[0m invalid syntax\n"
     ]
    }
   ],
   "source": [
    "#combine all files in the list\n",
    "combined_csv = pd.concat([pd.read_csv('gs://nvidiadask/higgs2/*.csv') ])\n",
    "#export to csv\n",
    "#combined_csv.to_csv( \"combined_csv.csv\", index=False, encoding='utf-8-sig')"
   ]
  },
  {
   "cell_type": "code",
   "execution_count": 15,
   "metadata": {},
   "outputs": [
    {
     "ename": "AttributeError",
     "evalue": "module 'pyarrow.lib' has no attribute 'NAType'",
     "output_type": "error",
     "traceback": [
      "\u001b[0;31m---------------------------------------------------------------------------\u001b[0m",
      "\u001b[0;31mAttributeError\u001b[0m                            Traceback (most recent call last)",
      "\u001b[0;32m<ipython-input-15-5941d5bc5d44>\u001b[0m in \u001b[0;36m<module>\u001b[0;34m\u001b[0m\n\u001b[1;32m      3\u001b[0m \u001b[0;31m#from dask.distributed import wait\u001b[0m\u001b[0;34m\u001b[0m\u001b[0;34m\u001b[0m\u001b[0;34m\u001b[0m\u001b[0m\n\u001b[1;32m      4\u001b[0m \u001b[0;31m#from dask import array as da\u001b[0m\u001b[0;34m\u001b[0m\u001b[0;34m\u001b[0m\u001b[0;34m\u001b[0m\u001b[0m\n\u001b[0;32m----> 5\u001b[0;31m \u001b[0;32mimport\u001b[0m \u001b[0mdask_cudf\u001b[0m\u001b[0;34m\u001b[0m\u001b[0;34m\u001b[0m\u001b[0m\n\u001b[0m\u001b[1;32m      6\u001b[0m '''\n\u001b[1;32m      7\u001b[0m \u001b[0;32mimport\u001b[0m \u001b[0mcupy\u001b[0m \u001b[0;32mas\u001b[0m \u001b[0mcp\u001b[0m\u001b[0;34m\u001b[0m\u001b[0;34m\u001b[0m\u001b[0m\n",
      "\u001b[0;32m/opt/conda/lib/python3.7/site-packages/dask_cudf/__init__.py\u001b[0m in \u001b[0;36m<module>\u001b[0;34m\u001b[0m\n\u001b[1;32m      1\u001b[0m \u001b[0;32mfrom\u001b[0m \u001b[0mdask\u001b[0m\u001b[0;34m.\u001b[0m\u001b[0mdataframe\u001b[0m \u001b[0;32mimport\u001b[0m \u001b[0mfrom_delayed\u001b[0m\u001b[0;34m\u001b[0m\u001b[0;34m\u001b[0m\u001b[0m\n\u001b[1;32m      2\u001b[0m \u001b[0;34m\u001b[0m\u001b[0m\n\u001b[0;32m----> 3\u001b[0;31m \u001b[0;32mimport\u001b[0m \u001b[0mcudf\u001b[0m\u001b[0;34m\u001b[0m\u001b[0;34m\u001b[0m\u001b[0m\n\u001b[0m\u001b[1;32m      4\u001b[0m \u001b[0;32mfrom\u001b[0m \u001b[0mcudf\u001b[0m\u001b[0;34m.\u001b[0m\u001b[0m_version\u001b[0m \u001b[0;32mimport\u001b[0m \u001b[0mget_versions\u001b[0m\u001b[0;34m\u001b[0m\u001b[0;34m\u001b[0m\u001b[0m\n\u001b[1;32m      5\u001b[0m \u001b[0;34m\u001b[0m\u001b[0m\n",
      "\u001b[0;32m/opt/conda/lib/python3.7/site-packages/cudf/__init__.py\u001b[0m in \u001b[0;36m<module>\u001b[0;34m\u001b[0m\n\u001b[1;32m      9\u001b[0m \u001b[0;32mimport\u001b[0m \u001b[0mrmm\u001b[0m\u001b[0;34m\u001b[0m\u001b[0;34m\u001b[0m\u001b[0m\n\u001b[1;32m     10\u001b[0m \u001b[0;34m\u001b[0m\u001b[0m\n\u001b[0;32m---> 11\u001b[0;31m \u001b[0;32mfrom\u001b[0m \u001b[0mcudf\u001b[0m \u001b[0;32mimport\u001b[0m \u001b[0mcore\u001b[0m\u001b[0;34m,\u001b[0m \u001b[0mdatasets\u001b[0m\u001b[0;34m,\u001b[0m \u001b[0mtesting\u001b[0m\u001b[0;34m\u001b[0m\u001b[0;34m\u001b[0m\u001b[0m\n\u001b[0m\u001b[1;32m     12\u001b[0m \u001b[0;32mfrom\u001b[0m \u001b[0mcudf\u001b[0m\u001b[0;34m.\u001b[0m\u001b[0m_version\u001b[0m \u001b[0;32mimport\u001b[0m \u001b[0mget_versions\u001b[0m\u001b[0;34m\u001b[0m\u001b[0;34m\u001b[0m\u001b[0m\n\u001b[1;32m     13\u001b[0m from cudf.core import (\n",
      "\u001b[0;32m/opt/conda/lib/python3.7/site-packages/cudf/core/__init__.py\u001b[0m in \u001b[0;36m<module>\u001b[0;34m\u001b[0m\n\u001b[1;32m      1\u001b[0m \u001b[0;31m# Copyright (c) 2018-2019, NVIDIA CORPORATION.\u001b[0m\u001b[0;34m\u001b[0m\u001b[0;34m\u001b[0m\u001b[0;34m\u001b[0m\u001b[0m\n\u001b[0;32m----> 2\u001b[0;31m \u001b[0;32mfrom\u001b[0m \u001b[0mcudf\u001b[0m\u001b[0;34m.\u001b[0m\u001b[0mcore\u001b[0m \u001b[0;32mimport\u001b[0m \u001b[0mbuffer\u001b[0m\u001b[0;34m,\u001b[0m \u001b[0mcolumn\u001b[0m\u001b[0;34m\u001b[0m\u001b[0;34m\u001b[0m\u001b[0m\n\u001b[0m\u001b[1;32m      3\u001b[0m \u001b[0;32mfrom\u001b[0m \u001b[0mcudf\u001b[0m\u001b[0;34m.\u001b[0m\u001b[0mcore\u001b[0m\u001b[0;34m.\u001b[0m\u001b[0mbuffer\u001b[0m \u001b[0;32mimport\u001b[0m \u001b[0mBuffer\u001b[0m\u001b[0;34m\u001b[0m\u001b[0;34m\u001b[0m\u001b[0m\n\u001b[1;32m      4\u001b[0m \u001b[0;32mfrom\u001b[0m \u001b[0mcudf\u001b[0m\u001b[0;34m.\u001b[0m\u001b[0mcore\u001b[0m\u001b[0;34m.\u001b[0m\u001b[0mdataframe\u001b[0m \u001b[0;32mimport\u001b[0m \u001b[0mDataFrame\u001b[0m\u001b[0;34m,\u001b[0m \u001b[0mfrom_pandas\u001b[0m\u001b[0;34m,\u001b[0m \u001b[0mmerge\u001b[0m\u001b[0;34m\u001b[0m\u001b[0;34m\u001b[0m\u001b[0m\n\u001b[1;32m      5\u001b[0m from cudf.core.index import (\n",
      "\u001b[0;32m/opt/conda/lib/python3.7/site-packages/cudf/core/column/__init__.py\u001b[0m in \u001b[0;36m<module>\u001b[0;34m\u001b[0m\n\u001b[1;32m      1\u001b[0m \u001b[0;31m# Copyright (c) 2020, NVIDIA CORPORATION.\u001b[0m\u001b[0;34m\u001b[0m\u001b[0;34m\u001b[0m\u001b[0;34m\u001b[0m\u001b[0m\n\u001b[1;32m      2\u001b[0m \u001b[0;34m\u001b[0m\u001b[0m\n\u001b[0;32m----> 3\u001b[0;31m \u001b[0;32mfrom\u001b[0m \u001b[0mcudf\u001b[0m\u001b[0;34m.\u001b[0m\u001b[0mcore\u001b[0m\u001b[0;34m.\u001b[0m\u001b[0mcolumn\u001b[0m\u001b[0;34m.\u001b[0m\u001b[0mcategorical\u001b[0m \u001b[0;32mimport\u001b[0m \u001b[0mCategoricalColumn\u001b[0m\u001b[0;34m\u001b[0m\u001b[0;34m\u001b[0m\u001b[0m\n\u001b[0m\u001b[1;32m      4\u001b[0m from cudf.core.column.column import (\n\u001b[1;32m      5\u001b[0m     \u001b[0mColumnBase\u001b[0m\u001b[0;34m,\u001b[0m\u001b[0;34m\u001b[0m\u001b[0;34m\u001b[0m\u001b[0m\n",
      "\u001b[0;32m/opt/conda/lib/python3.7/site-packages/cudf/core/column/categorical.py\u001b[0m in \u001b[0;36m<module>\u001b[0;34m\u001b[0m\n\u001b[1;32m      8\u001b[0m \u001b[0;34m\u001b[0m\u001b[0m\n\u001b[1;32m      9\u001b[0m \u001b[0;32mimport\u001b[0m \u001b[0mcudf\u001b[0m\u001b[0;34m\u001b[0m\u001b[0;34m\u001b[0m\u001b[0m\n\u001b[0;32m---> 10\u001b[0;31m \u001b[0;32mfrom\u001b[0m \u001b[0mcudf\u001b[0m \u001b[0;32mimport\u001b[0m \u001b[0m_lib\u001b[0m \u001b[0;32mas\u001b[0m \u001b[0mlibcudf\u001b[0m\u001b[0;34m\u001b[0m\u001b[0;34m\u001b[0m\u001b[0m\n\u001b[0m\u001b[1;32m     11\u001b[0m \u001b[0;32mfrom\u001b[0m \u001b[0mcudf\u001b[0m\u001b[0;34m.\u001b[0m\u001b[0m_lib\u001b[0m\u001b[0;34m.\u001b[0m\u001b[0mtransform\u001b[0m \u001b[0;32mimport\u001b[0m \u001b[0mbools_to_mask\u001b[0m\u001b[0;34m\u001b[0m\u001b[0;34m\u001b[0m\u001b[0m\n\u001b[1;32m     12\u001b[0m \u001b[0;32mfrom\u001b[0m \u001b[0mcudf\u001b[0m\u001b[0;34m.\u001b[0m\u001b[0mcore\u001b[0m\u001b[0;34m.\u001b[0m\u001b[0mbuffer\u001b[0m \u001b[0;32mimport\u001b[0m \u001b[0mBuffer\u001b[0m\u001b[0;34m\u001b[0m\u001b[0;34m\u001b[0m\u001b[0m\n",
      "\u001b[0;32m/opt/conda/lib/python3.7/site-packages/cudf/_lib/__init__.py\u001b[0m in \u001b[0;36m<module>\u001b[0;34m\u001b[0m\n\u001b[1;32m      2\u001b[0m \u001b[0;32mimport\u001b[0m \u001b[0mnumpy\u001b[0m \u001b[0;32mas\u001b[0m \u001b[0mnp\u001b[0m\u001b[0;34m\u001b[0m\u001b[0;34m\u001b[0m\u001b[0m\n\u001b[1;32m      3\u001b[0m \u001b[0;34m\u001b[0m\u001b[0m\n\u001b[0;32m----> 4\u001b[0;31m from . import (\n\u001b[0m\u001b[1;32m      5\u001b[0m     \u001b[0mavro\u001b[0m\u001b[0;34m,\u001b[0m\u001b[0;34m\u001b[0m\u001b[0;34m\u001b[0m\u001b[0m\n\u001b[1;32m      6\u001b[0m     \u001b[0mbinaryop\u001b[0m\u001b[0;34m,\u001b[0m\u001b[0;34m\u001b[0m\u001b[0;34m\u001b[0m\u001b[0m\n",
      "\u001b[0;32mcudf/_lib/avro.pyx\u001b[0m in \u001b[0;36minit cudf._lib.avro\u001b[0;34m()\u001b[0m\n",
      "\u001b[0;32mcudf/_lib/table.pyx\u001b[0m in \u001b[0;36minit cudf._lib.table\u001b[0;34m()\u001b[0m\n",
      "\u001b[0;32m/opt/conda/lib/python3.7/site-packages/cudf/core/column_accessor.py\u001b[0m in \u001b[0;36m<module>\u001b[0;34m\u001b[0m\n\u001b[1;32m      5\u001b[0m \u001b[0;34m\u001b[0m\u001b[0m\n\u001b[1;32m      6\u001b[0m \u001b[0;32mimport\u001b[0m \u001b[0mcudf\u001b[0m\u001b[0;34m\u001b[0m\u001b[0;34m\u001b[0m\u001b[0m\n\u001b[0;32m----> 7\u001b[0;31m from cudf.utils.utils import (\n\u001b[0m\u001b[1;32m      8\u001b[0m     \u001b[0mOrderedColumnDict\u001b[0m\u001b[0;34m,\u001b[0m\u001b[0;34m\u001b[0m\u001b[0;34m\u001b[0m\u001b[0m\n\u001b[1;32m      9\u001b[0m     \u001b[0mcached_property\u001b[0m\u001b[0;34m,\u001b[0m\u001b[0;34m\u001b[0m\u001b[0;34m\u001b[0m\u001b[0m\n",
      "\u001b[0;32m/opt/conda/lib/python3.7/site-packages/cudf/utils/utils.py\u001b[0m in \u001b[0;36m<module>\u001b[0;34m\u001b[0m\n\u001b[1;32m      9\u001b[0m \u001b[0;32mimport\u001b[0m \u001b[0mpyarrow\u001b[0m \u001b[0;32mas\u001b[0m \u001b[0mpa\u001b[0m\u001b[0;34m\u001b[0m\u001b[0;34m\u001b[0m\u001b[0m\n\u001b[1;32m     10\u001b[0m \u001b[0;32mfrom\u001b[0m \u001b[0mnumba\u001b[0m \u001b[0;32mimport\u001b[0m \u001b[0mnjit\u001b[0m\u001b[0;34m\u001b[0m\u001b[0;34m\u001b[0m\u001b[0m\n\u001b[0;32m---> 11\u001b[0;31m \u001b[0;32mfrom\u001b[0m \u001b[0mpyarrow\u001b[0m\u001b[0;34m.\u001b[0m\u001b[0mcuda\u001b[0m \u001b[0;32mimport\u001b[0m \u001b[0mCudaBuffer\u001b[0m \u001b[0;32mas\u001b[0m \u001b[0marrowCudaBuffer\u001b[0m\u001b[0;34m\u001b[0m\u001b[0;34m\u001b[0m\u001b[0m\n\u001b[0m\u001b[1;32m     12\u001b[0m \u001b[0;34m\u001b[0m\u001b[0m\n\u001b[1;32m     13\u001b[0m \u001b[0;32mimport\u001b[0m \u001b[0mrmm\u001b[0m\u001b[0;34m\u001b[0m\u001b[0;34m\u001b[0m\u001b[0m\n",
      "\u001b[0;32m/opt/conda/lib/python3.7/site-packages/pyarrow/cuda.py\u001b[0m in \u001b[0;36m<module>\u001b[0;34m\u001b[0m\n\u001b[1;32m     19\u001b[0m \u001b[0;34m\u001b[0m\u001b[0m\n\u001b[1;32m     20\u001b[0m \u001b[0;34m\u001b[0m\u001b[0m\n\u001b[0;32m---> 21\u001b[0;31m from pyarrow._cuda import (Context, IpcMemHandle, CudaBuffer,\n\u001b[0m\u001b[1;32m     22\u001b[0m                            \u001b[0mHostBuffer\u001b[0m\u001b[0;34m,\u001b[0m \u001b[0mBufferReader\u001b[0m\u001b[0;34m,\u001b[0m \u001b[0mBufferWriter\u001b[0m\u001b[0;34m,\u001b[0m\u001b[0;34m\u001b[0m\u001b[0;34m\u001b[0m\u001b[0m\n\u001b[1;32m     23\u001b[0m                            \u001b[0mnew_host_buffer\u001b[0m\u001b[0;34m,\u001b[0m\u001b[0;34m\u001b[0m\u001b[0;34m\u001b[0m\u001b[0m\n",
      "\u001b[0;32m/opt/conda/lib/python3.7/site-packages/pyarrow/_cuda.pyx\u001b[0m in \u001b[0;36minit pyarrow._cuda\u001b[0;34m()\u001b[0m\n",
      "\u001b[0;31mAttributeError\u001b[0m: module 'pyarrow.lib' has no attribute 'NAType'"
     ]
    }
   ],
   "source": [
    "from dask_cuda import LocalCUDACluster\n",
    "#from dask.distributed import Client\n",
    "#from dask.distributed import wait\n",
    "#from dask import array as da\n",
    "import dask_cudf\n",
    "'''\n",
    "import cupy as cp\n",
    "import argparse\n",
    "import time\n",
    "import gcsfs\n",
    "import dask_cudf\n",
    "import os, json\n",
    "import subprocess\n",
    "'''\n",
    "\n",
    "train_dir='gs://nvidiadask/higgs1/*.csv'\n",
    "df = dask_cudf.read_csv(train_dir, header=None, names=colnames, chunksize=None)\n",
    "print(ddf.npartitions)"
   ]
  },
  {
   "cell_type": "code",
   "execution_count": null,
   "metadata": {},
   "outputs": [],
   "source": [
    "train_dir = \"gs://hfhdhd\"\n",
    "print(\"blah\" + train_dir)"
   ]
  },
  {
   "cell_type": "code",
   "execution_count": null,
   "metadata": {},
   "outputs": [],
   "source": [
    "conda create -n rapids-0.17 -c rapidsai -c nvidia -c conda-forge -c defaults rapids-blazing=0.17 python=3.7 cudatoolkit=11.0  gcsfs=0.7.1"
   ]
  }
 ],
 "metadata": {
  "environment": {
   "name": "common-cu110.m59",
   "type": "gcloud",
   "uri": "gcr.io/deeplearning-platform-release/base-cu110:m59"
  },
  "kernelspec": {
   "display_name": "Python 3",
   "language": "python",
   "name": "python3"
  },
  "language_info": {
   "codemirror_mode": {
    "name": "ipython",
    "version": 3
   },
   "file_extension": ".py",
   "mimetype": "text/x-python",
   "name": "python",
   "nbconvert_exporter": "python",
   "pygments_lexer": "ipython3",
   "version": "3.7.8"
  }
 },
 "nbformat": 4,
 "nbformat_minor": 4
}
