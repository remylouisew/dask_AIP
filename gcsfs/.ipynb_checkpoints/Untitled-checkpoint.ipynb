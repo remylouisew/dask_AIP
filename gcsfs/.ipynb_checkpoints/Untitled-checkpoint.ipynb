{
 "cells": [],
 "metadata": {
  "environment": {
   "name": "common-cu110.m59",
   "type": "gcloud",
   "uri": "gcr.io/deeplearning-platform-release/base-cu110:m59"
  }
 },
 "nbformat": 4,
 "nbformat_minor": 4
}
